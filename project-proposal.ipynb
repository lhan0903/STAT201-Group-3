{
 "cells": [
  {
   "cell_type": "markdown",
   "id": "d0fdc87f-72a7-48c2-b633-48b7e4eb6601",
   "metadata": {},
   "source": [
    "# Deliverable 2: Project Proposal\n",
    "\n",
    "### Group 3 - Aden Chan, Kashie Ugoji, Linda Han, Sungha Choi\n",
    "--------------"
   ]
  },
  {
   "cell_type": "markdown",
   "id": "63e16ca6-5f70-4641-b131-314d58b142d5",
   "metadata": {},
   "source": [
    "\n",
    "### Inferential question: Does the average final grade of highschool students who do extra-curricular activities differ from those who do not?\n",
    "\n",
    "Dataset used: https://archive.ics.uci.edu/dataset/320/student+performance\n"
   ]
  },
  {
   "cell_type": "markdown",
   "id": "56aa7289-2005-49e6-a56b-d681d01fd618",
   "metadata": {
    "tags": []
   },
   "source": [
    "## Introduction\n",
    "\n",
    "Begin by providing some relevant background information on the topic so that someone unfamiliar with it will be prepared to understand the rest of your proposal.\n",
    "\n",
    "Clearly state the question you will try to answer with your project. Your question should involve one or more random variables of interest, spread across two or more categories that are interesting to compare. For example, you could consider the annual maxima river flow at two different locations along a river, or perhaps gender diversity at different universities. Of the response variable, identify one location parameter (mean, median, quantile, etc.) and one scale parameter (standard deviation, inter-quartile range, etc.) that would be useful in answering your question. Justify your choices.\n",
    "\n",
    "UPDATE (Mar 1, 2022): If it doesn’t make sense to infer a scale parameter, you can choose another parameter, or choose a second variable altogether. Ultimately, we’re looking for a comprehensive inference analysis on one parameter spread across 2+ groups (with at least one hypothesis test), plus a bit more (such as an investigation on the variance, a quantile, or a different variable). In total, you should use both bootstrapping and asymptotics somewhere in your report at least once each. Also, your hypothesis test(s) need not be significant: it is perfectly fine to write a report claiming no significant findings (i.e. your p-value is large).\n",
    "\n",
    "\n",
    "Also, be sure to frame your question/objectives in terms of what is already known in the literature. Be sure to include at least two scientific publications that can help frame your study (you will need to include these in the References section). We have no specific citation style requirements, but be consistent.\n",
    "\n"
   ]
  },
  {
   "cell_type": "markdown",
   "id": "0bcc4e0b-095f-496b-bd81-a4e68345cf3f",
   "metadata": {},
   "source": [
    "## Preliminary Results"
   ]
  },
  {
   "cell_type": "markdown",
   "id": "6445ff0e-be2a-475c-b276-8d46ca420183",
   "metadata": {},
   "source": [
    "### 1. Importing libraries"
   ]
  },
  {
   "cell_type": "markdown",
   "id": "7c9cf876-4d53-4ca4-a5d6-1d190bb7bbb5",
   "metadata": {},
   "source": [
    "To start doing exploratory data analysis, we first need to load in all the necessary libraries."
   ]
  },
  {
   "cell_type": "code",
   "execution_count": 6,
   "id": "953cdda2-53a8-43c6-a2ee-b2e658f570c7",
   "metadata": {
    "tags": []
   },
   "outputs": [],
   "source": [
    "library(tidyverse)"
   ]
  },
  {
   "cell_type": "markdown",
   "id": "2b99af3f-989c-4d81-98e8-78006898eee4",
   "metadata": {},
   "source": [
    "### 2. Importing dataset"
   ]
  },
  {
   "cell_type": "markdown",
   "id": "d4136e4f-763f-4662-8271-515f53e17b53",
   "metadata": {},
   "source": [
    "The dataset we are interested in is \"student-mat.csv\", and it contains demographic, family, personal attributes, and academic performance information about **students in math classes from two Portuguese high schools**.\n",
    "\n",
    "Below, we illustrate the process of unzipping and extracting the dataset from a URL. The resulting dataset will be loaded into an object called `students`."
   ]
  },
  {
   "cell_type": "code",
   "execution_count": 7,
   "id": "8fdd126d-370b-4c3d-b4a2-de5e06cb8e3b",
   "metadata": {
    "tags": []
   },
   "outputs": [
    {
     "name": "stderr",
     "output_type": "stream",
     "text": [
      "\u001b[1mRows: \u001b[22m\u001b[34m395\u001b[39m \u001b[1mColumns: \u001b[22m\u001b[34m33\u001b[39m\n",
      "\u001b[36m──\u001b[39m \u001b[1mColumn specification\u001b[22m \u001b[36m────────────────────────────────────────────────────────\u001b[39m\n",
      "\u001b[1mDelimiter:\u001b[22m \";\"\n",
      "\u001b[31mchr\u001b[39m (17): school, sex, address, famsize, Pstatus, Mjob, Fjob, reason, guardi...\n",
      "\u001b[32mdbl\u001b[39m (16): age, Medu, Fedu, traveltime, studytime, failures, famrel, freetime...\n",
      "\n",
      "\u001b[36mℹ\u001b[39m Use `spec()` to retrieve the full column specification for this data.\n",
      "\u001b[36mℹ\u001b[39m Specify the column types or set `show_col_types = FALSE` to quiet this message.\n"
     ]
    },
    {
     "data": {
      "text/html": [
       "<table class=\"dataframe\">\n",
       "<caption>A tibble: 6 × 33</caption>\n",
       "<thead>\n",
       "\t<tr><th scope=col>school</th><th scope=col>sex</th><th scope=col>age</th><th scope=col>address</th><th scope=col>famsize</th><th scope=col>Pstatus</th><th scope=col>Medu</th><th scope=col>Fedu</th><th scope=col>Mjob</th><th scope=col>Fjob</th><th scope=col>⋯</th><th scope=col>famrel</th><th scope=col>freetime</th><th scope=col>goout</th><th scope=col>Dalc</th><th scope=col>Walc</th><th scope=col>health</th><th scope=col>absences</th><th scope=col>G1</th><th scope=col>G2</th><th scope=col>G3</th></tr>\n",
       "\t<tr><th scope=col>&lt;chr&gt;</th><th scope=col>&lt;chr&gt;</th><th scope=col>&lt;dbl&gt;</th><th scope=col>&lt;chr&gt;</th><th scope=col>&lt;chr&gt;</th><th scope=col>&lt;chr&gt;</th><th scope=col>&lt;dbl&gt;</th><th scope=col>&lt;dbl&gt;</th><th scope=col>&lt;chr&gt;</th><th scope=col>&lt;chr&gt;</th><th scope=col>⋯</th><th scope=col>&lt;dbl&gt;</th><th scope=col>&lt;dbl&gt;</th><th scope=col>&lt;dbl&gt;</th><th scope=col>&lt;dbl&gt;</th><th scope=col>&lt;dbl&gt;</th><th scope=col>&lt;dbl&gt;</th><th scope=col>&lt;dbl&gt;</th><th scope=col>&lt;dbl&gt;</th><th scope=col>&lt;dbl&gt;</th><th scope=col>&lt;dbl&gt;</th></tr>\n",
       "</thead>\n",
       "<tbody>\n",
       "\t<tr><td>GP</td><td>F</td><td>18</td><td>U</td><td>GT3</td><td>A</td><td>4</td><td>4</td><td>at_home </td><td>teacher </td><td>⋯</td><td>4</td><td>3</td><td>4</td><td>1</td><td>1</td><td>3</td><td> 6</td><td> 5</td><td> 6</td><td> 6</td></tr>\n",
       "\t<tr><td>GP</td><td>F</td><td>17</td><td>U</td><td>GT3</td><td>T</td><td>1</td><td>1</td><td>at_home </td><td>other   </td><td>⋯</td><td>5</td><td>3</td><td>3</td><td>1</td><td>1</td><td>3</td><td> 4</td><td> 5</td><td> 5</td><td> 6</td></tr>\n",
       "\t<tr><td>GP</td><td>F</td><td>15</td><td>U</td><td>LE3</td><td>T</td><td>1</td><td>1</td><td>at_home </td><td>other   </td><td>⋯</td><td>4</td><td>3</td><td>2</td><td>2</td><td>3</td><td>3</td><td>10</td><td> 7</td><td> 8</td><td>10</td></tr>\n",
       "\t<tr><td>GP</td><td>F</td><td>15</td><td>U</td><td>GT3</td><td>T</td><td>4</td><td>2</td><td>health  </td><td>services</td><td>⋯</td><td>3</td><td>2</td><td>2</td><td>1</td><td>1</td><td>5</td><td> 2</td><td>15</td><td>14</td><td>15</td></tr>\n",
       "\t<tr><td>GP</td><td>F</td><td>16</td><td>U</td><td>GT3</td><td>T</td><td>3</td><td>3</td><td>other   </td><td>other   </td><td>⋯</td><td>4</td><td>3</td><td>2</td><td>1</td><td>2</td><td>5</td><td> 4</td><td> 6</td><td>10</td><td>10</td></tr>\n",
       "\t<tr><td>GP</td><td>M</td><td>16</td><td>U</td><td>LE3</td><td>T</td><td>4</td><td>3</td><td>services</td><td>other   </td><td>⋯</td><td>5</td><td>4</td><td>2</td><td>1</td><td>2</td><td>5</td><td>10</td><td>15</td><td>15</td><td>15</td></tr>\n",
       "</tbody>\n",
       "</table>\n"
      ],
      "text/latex": [
       "A tibble: 6 × 33\n",
       "\\begin{tabular}{lllllllllllllllllllll}\n",
       " school & sex & age & address & famsize & Pstatus & Medu & Fedu & Mjob & Fjob & ⋯ & famrel & freetime & goout & Dalc & Walc & health & absences & G1 & G2 & G3\\\\\n",
       " <chr> & <chr> & <dbl> & <chr> & <chr> & <chr> & <dbl> & <dbl> & <chr> & <chr> & ⋯ & <dbl> & <dbl> & <dbl> & <dbl> & <dbl> & <dbl> & <dbl> & <dbl> & <dbl> & <dbl>\\\\\n",
       "\\hline\n",
       "\t GP & F & 18 & U & GT3 & A & 4 & 4 & at\\_home  & teacher  & ⋯ & 4 & 3 & 4 & 1 & 1 & 3 &  6 &  5 &  6 &  6\\\\\n",
       "\t GP & F & 17 & U & GT3 & T & 1 & 1 & at\\_home  & other    & ⋯ & 5 & 3 & 3 & 1 & 1 & 3 &  4 &  5 &  5 &  6\\\\\n",
       "\t GP & F & 15 & U & LE3 & T & 1 & 1 & at\\_home  & other    & ⋯ & 4 & 3 & 2 & 2 & 3 & 3 & 10 &  7 &  8 & 10\\\\\n",
       "\t GP & F & 15 & U & GT3 & T & 4 & 2 & health   & services & ⋯ & 3 & 2 & 2 & 1 & 1 & 5 &  2 & 15 & 14 & 15\\\\\n",
       "\t GP & F & 16 & U & GT3 & T & 3 & 3 & other    & other    & ⋯ & 4 & 3 & 2 & 1 & 2 & 5 &  4 &  6 & 10 & 10\\\\\n",
       "\t GP & M & 16 & U & LE3 & T & 4 & 3 & services & other    & ⋯ & 5 & 4 & 2 & 1 & 2 & 5 & 10 & 15 & 15 & 15\\\\\n",
       "\\end{tabular}\n"
      ],
      "text/markdown": [
       "\n",
       "A tibble: 6 × 33\n",
       "\n",
       "| school &lt;chr&gt; | sex &lt;chr&gt; | age &lt;dbl&gt; | address &lt;chr&gt; | famsize &lt;chr&gt; | Pstatus &lt;chr&gt; | Medu &lt;dbl&gt; | Fedu &lt;dbl&gt; | Mjob &lt;chr&gt; | Fjob &lt;chr&gt; | ⋯ ⋯ | famrel &lt;dbl&gt; | freetime &lt;dbl&gt; | goout &lt;dbl&gt; | Dalc &lt;dbl&gt; | Walc &lt;dbl&gt; | health &lt;dbl&gt; | absences &lt;dbl&gt; | G1 &lt;dbl&gt; | G2 &lt;dbl&gt; | G3 &lt;dbl&gt; |\n",
       "|---|---|---|---|---|---|---|---|---|---|---|---|---|---|---|---|---|---|---|---|---|\n",
       "| GP | F | 18 | U | GT3 | A | 4 | 4 | at_home  | teacher  | ⋯ | 4 | 3 | 4 | 1 | 1 | 3 |  6 |  5 |  6 |  6 |\n",
       "| GP | F | 17 | U | GT3 | T | 1 | 1 | at_home  | other    | ⋯ | 5 | 3 | 3 | 1 | 1 | 3 |  4 |  5 |  5 |  6 |\n",
       "| GP | F | 15 | U | LE3 | T | 1 | 1 | at_home  | other    | ⋯ | 4 | 3 | 2 | 2 | 3 | 3 | 10 |  7 |  8 | 10 |\n",
       "| GP | F | 15 | U | GT3 | T | 4 | 2 | health   | services | ⋯ | 3 | 2 | 2 | 1 | 1 | 5 |  2 | 15 | 14 | 15 |\n",
       "| GP | F | 16 | U | GT3 | T | 3 | 3 | other    | other    | ⋯ | 4 | 3 | 2 | 1 | 2 | 5 |  4 |  6 | 10 | 10 |\n",
       "| GP | M | 16 | U | LE3 | T | 4 | 3 | services | other    | ⋯ | 5 | 4 | 2 | 1 | 2 | 5 | 10 | 15 | 15 | 15 |\n",
       "\n"
      ],
      "text/plain": [
       "  school sex age address famsize Pstatus Medu Fedu Mjob     Fjob     ⋯ famrel\n",
       "1 GP     F   18  U       GT3     A       4    4    at_home  teacher  ⋯ 4     \n",
       "2 GP     F   17  U       GT3     T       1    1    at_home  other    ⋯ 5     \n",
       "3 GP     F   15  U       LE3     T       1    1    at_home  other    ⋯ 4     \n",
       "4 GP     F   15  U       GT3     T       4    2    health   services ⋯ 3     \n",
       "5 GP     F   16  U       GT3     T       3    3    other    other    ⋯ 4     \n",
       "6 GP     M   16  U       LE3     T       4    3    services other    ⋯ 5     \n",
       "  freetime goout Dalc Walc health absences G1 G2 G3\n",
       "1 3        4     1    1    3       6        5  6  6\n",
       "2 3        3     1    1    3       4        5  5  6\n",
       "3 3        2     2    3    3      10        7  8 10\n",
       "4 2        2     1    1    5       2       15 14 15\n",
       "5 3        2     1    2    5       4        6 10 10\n",
       "6 4        2     1    2    5      10       15 15 15"
      ]
     },
     "metadata": {},
     "output_type": "display_data"
    }
   ],
   "source": [
    "# Downloads the zipfile containing the dataset if it doesn't already exist \n",
    "# and saves it to the current working directory as \"dataset-zip\"\n",
    "url <- \"https://archive.ics.uci.edu/static/public/320/student+performance.zip\"\n",
    "destfile <- \"./dataset-zip\" \n",
    "\n",
    "if (!file.exists(destfile)) {\n",
    "    download.file(url, destfile)\n",
    "    \n",
    "    # Unzips the zipfile and extracts the dataset to current working directory\n",
    "    unzip(destfile, files = \"student.zip\") %>% unzip(files = \"student-mat.csv\")\n",
    "}\n",
    "\n",
    "\n",
    "\n",
    "# Read the dataset and name it `students`\n",
    "students <- read_delim(\"./student-mat.csv\", delim=\";\")\n",
    "head(students)"
   ]
  },
  {
   "cell_type": "markdown",
   "id": "d8677658-ea1c-4084-84e9-63bd24102cbe",
   "metadata": {},
   "source": [
    "### 3. Wrangling the dataset"
   ]
  },
  {
   "cell_type": "markdown",
   "id": "cea2f903-5054-4783-8266-f0ab573234e4",
   "metadata": {},
   "source": [
    "Now that the dataset has been successfully loaded, we will wrangle it to the desired format for our project.\n",
    "\n",
    "According to the description provided in the documentation, the column `G3` in the dataset represents the students' final grade:\n",
    "\n",
    "> G3 - final grade (numeric: from 0 to 20, output target)\n",
    "\n",
    "Note: Grades in Portugal are distributed on a scale of 0-20 with 18-20 being excellent in international standards (letter grade A). (https://www.upt.pt/en/home/internationals/portuguese-grading-system-2/)\n",
    "\n",
    "To make `G3` more readable, we mutate its name to `final_grade`.\n",
    "\n",
    "We then select the two columns relevant to our inferential question - `activities` and the newly mutated column `final_grade`."
   ]
  },
  {
   "cell_type": "code",
   "execution_count": 8,
   "id": "0e32313e-7f96-476d-838f-00310a5d5c41",
   "metadata": {
    "tags": []
   },
   "outputs": [
    {
     "data": {
      "text/html": [
       "<table class=\"dataframe\">\n",
       "<caption>A tibble: 6 × 2</caption>\n",
       "<thead>\n",
       "\t<tr><th scope=col>activities</th><th scope=col>final_grade</th></tr>\n",
       "\t<tr><th scope=col>&lt;chr&gt;</th><th scope=col>&lt;dbl&gt;</th></tr>\n",
       "</thead>\n",
       "<tbody>\n",
       "\t<tr><td>no </td><td> 6</td></tr>\n",
       "\t<tr><td>no </td><td> 6</td></tr>\n",
       "\t<tr><td>no </td><td>10</td></tr>\n",
       "\t<tr><td>yes</td><td>15</td></tr>\n",
       "\t<tr><td>no </td><td>10</td></tr>\n",
       "\t<tr><td>yes</td><td>15</td></tr>\n",
       "</tbody>\n",
       "</table>\n"
      ],
      "text/latex": [
       "A tibble: 6 × 2\n",
       "\\begin{tabular}{ll}\n",
       " activities & final\\_grade\\\\\n",
       " <chr> & <dbl>\\\\\n",
       "\\hline\n",
       "\t no  &  6\\\\\n",
       "\t no  &  6\\\\\n",
       "\t no  & 10\\\\\n",
       "\t yes & 15\\\\\n",
       "\t no  & 10\\\\\n",
       "\t yes & 15\\\\\n",
       "\\end{tabular}\n"
      ],
      "text/markdown": [
       "\n",
       "A tibble: 6 × 2\n",
       "\n",
       "| activities &lt;chr&gt; | final_grade &lt;dbl&gt; |\n",
       "|---|---|\n",
       "| no  |  6 |\n",
       "| no  |  6 |\n",
       "| no  | 10 |\n",
       "| yes | 15 |\n",
       "| no  | 10 |\n",
       "| yes | 15 |\n",
       "\n"
      ],
      "text/plain": [
       "  activities final_grade\n",
       "1 no          6         \n",
       "2 no          6         \n",
       "3 no         10         \n",
       "4 yes        15         \n",
       "5 no         10         \n",
       "6 yes        15         "
      ]
     },
     "metadata": {},
     "output_type": "display_data"
    }
   ],
   "source": [
    "students_sample <- students %>%\n",
    "    mutate(final_grade = G3) %>%\n",
    "    select(activities, final_grade)\n",
    "\n",
    "head(students_selected)"
   ]
  },
  {
   "cell_type": "markdown",
   "id": "abebaca6-6bfd-4294-94bc-17d79a6e0e63",
   "metadata": {},
   "source": [
    "### 4. Gaining insight about the dataset"
   ]
  },
  {
   "cell_type": "markdown",
   "id": "d19102c7-0eb8-4818-bac6-b3b24b9d8006",
   "metadata": {},
   "source": [
    "Once again, we are interested in finding the **average grade of students who do extra-curricular activities** and the **average grade of those who don't**. \n",
    "\n",
    "First, we try to gain some insight about the dataset by counting the total number of students and the number of them in each category (extra-curricular and no extra-curricular)."
   ]
  },
  {
   "cell_type": "markdown",
   "id": "33e58d6e-84bd-4341-9ff9-e169d7db4991",
   "metadata": {},
   "source": [
    "We examine that there is a total number of 395 students in the dataset, and out of those students 49% of them don't do extra-curriculars while the other 51% of them do."
   ]
  },
  {
   "cell_type": "code",
   "execution_count": 13,
   "id": "879b6aac-c657-497d-b291-c0f87987bfd8",
   "metadata": {
    "tags": []
   },
   "outputs": [
    {
     "data": {
      "text/html": [
       "395"
      ],
      "text/latex": [
       "395"
      ],
      "text/markdown": [
       "395"
      ],
      "text/plain": [
       "[1] 395"
      ]
     },
     "metadata": {},
     "output_type": "display_data"
    }
   ],
   "source": [
    "# count the total number of students\n",
    "nrow(students)"
   ]
  },
  {
   "cell_type": "code",
   "execution_count": 14,
   "id": "0c3110ee-ea0f-4dfa-b203-b6164dc6f7db",
   "metadata": {
    "tags": []
   },
   "outputs": [
    {
     "data": {
      "text/html": [
       "<table class=\"dataframe\">\n",
       "<caption>A tibble: 2 × 3</caption>\n",
       "<thead>\n",
       "\t<tr><th scope=col>activities</th><th scope=col>n</th><th scope=col>prop</th></tr>\n",
       "\t<tr><th scope=col>&lt;chr&gt;</th><th scope=col>&lt;int&gt;</th><th scope=col>&lt;dbl&gt;</th></tr>\n",
       "</thead>\n",
       "<tbody>\n",
       "\t<tr><td>no </td><td>194</td><td>0.4911392</td></tr>\n",
       "\t<tr><td>yes</td><td>201</td><td>0.5088608</td></tr>\n",
       "</tbody>\n",
       "</table>\n"
      ],
      "text/latex": [
       "A tibble: 2 × 3\n",
       "\\begin{tabular}{lll}\n",
       " activities & n & prop\\\\\n",
       " <chr> & <int> & <dbl>\\\\\n",
       "\\hline\n",
       "\t no  & 194 & 0.4911392\\\\\n",
       "\t yes & 201 & 0.5088608\\\\\n",
       "\\end{tabular}\n"
      ],
      "text/markdown": [
       "\n",
       "A tibble: 2 × 3\n",
       "\n",
       "| activities &lt;chr&gt; | n &lt;int&gt; | prop &lt;dbl&gt; |\n",
       "|---|---|---|\n",
       "| no  | 194 | 0.4911392 |\n",
       "| yes | 201 | 0.5088608 |\n",
       "\n"
      ],
      "text/plain": [
       "  activities n   prop     \n",
       "1 no         194 0.4911392\n",
       "2 yes        201 0.5088608"
      ]
     },
     "metadata": {},
     "output_type": "display_data"
    }
   ],
   "source": [
    "# count the number and proportion of students in each category\n",
    "count(students, activities) %>%\n",
    "mutate(prop = n/nrow(students))"
   ]
  },
  {
   "cell_type": "code",
   "execution_count": 12,
   "id": "0b47da6d-6fba-4be8-9528-ccb2623230d8",
   "metadata": {
    "tags": []
   },
   "outputs": [
    {
     "data": {
      "text/html": [
       "<table class=\"dataframe\">\n",
       "<caption>A tibble: 2 × 2</caption>\n",
       "<thead>\n",
       "\t<tr><th scope=col>activities</th><th scope=col>mean_final_grade</th></tr>\n",
       "\t<tr><th scope=col>&lt;chr&gt;</th><th scope=col>&lt;dbl&gt;</th></tr>\n",
       "</thead>\n",
       "<tbody>\n",
       "\t<tr><td>no </td><td>10.34021</td></tr>\n",
       "\t<tr><td>yes</td><td>10.48756</td></tr>\n",
       "</tbody>\n",
       "</table>\n"
      ],
      "text/latex": [
       "A tibble: 2 × 2\n",
       "\\begin{tabular}{ll}\n",
       " activities & mean\\_final\\_grade\\\\\n",
       " <chr> & <dbl>\\\\\n",
       "\\hline\n",
       "\t no  & 10.34021\\\\\n",
       "\t yes & 10.48756\\\\\n",
       "\\end{tabular}\n"
      ],
      "text/markdown": [
       "\n",
       "A tibble: 2 × 2\n",
       "\n",
       "| activities &lt;chr&gt; | mean_final_grade &lt;dbl&gt; |\n",
       "|---|---|\n",
       "| no  | 10.34021 |\n",
       "| yes | 10.48756 |\n",
       "\n"
      ],
      "text/plain": [
       "  activities mean_final_grade\n",
       "1 no         10.34021        \n",
       "2 yes        10.48756        "
      ]
     },
     "metadata": {},
     "output_type": "display_data"
    }
   ],
   "source": [
    "students_sample %>%\n",
    "    group_by(activities) %>%\n",
    "    summarize(mean_final_grade = mean(final_grade))"
   ]
  },
  {
   "cell_type": "markdown",
   "id": "b4420873-8fce-4589-84f4-a11bdfac43bc",
   "metadata": {},
   "source": [
    "## Methods: Plan\n",
    "\n",
    "The previous sections will carry over to your final report (you’ll be allowed to improve them based on feedback you get). Begin this Methods section with a brief description of “the good things” about this report – specifically, in what ways is this report trustworthy?\n",
    "\n",
    "Continue by explaining why the plot(s) and estimates that you produced are not enough to give to a stakeholder, and what you should provide in addition to address this gap. Make sure your plans include at least one hypothesis test and one confidence interval. If possible, compare both the bootstrapping and asymptotics methods.\n",
    "\n",
    "Finish this section by reflecting on how your final report might play out:\n",
    "\n",
    "What do you expect to find?\n",
    "What impact could such findings have?\n",
    "What future questions could this lead to?"
   ]
  },
  {
   "cell_type": "markdown",
   "id": "f490fd84-99c5-4ee0-96ee-4592a1034fd3",
   "metadata": {},
   "source": [
    "## References\n",
    "At least two citations of literature relevant to the project. The citation format is your choice – just be consistent. Make sure to cite the source of your data as well.\n",
    "\n",
    "assigned to review a different group’s proposal. This allows your group to collectively see a larger variety of proposals.)\n",
    "\n",
    "submit that to canvas. There is no page limit. The teaching team will deliver the feedback to your reviewee.)\n",
    "\n",
    "communicated effectively. When possible, provide suggestions for improvement. If everything looks good to you, say why it looks good.) comment: <> (- What part of the proposal is the most effective, and why?) comment: <> (- What part of the proposal is the least effective, and why? Provide a suggestion for improvement.) comment: <> (- Provide feedback on English, spelling, and grammar, if applicable.)\n",
    "\n",
    "the composition of your submission, reasoning (70%) evaluates your feedback, and writing (20%) evaluates your English, spelling, and grammar.)"
   ]
  },
  {
   "cell_type": "code",
   "execution_count": null,
   "id": "4771698a-ece6-4354-857f-af9cee54326a",
   "metadata": {},
   "outputs": [],
   "source": []
  }
 ],
 "metadata": {
  "kernelspec": {
   "display_name": "R",
   "language": "R",
   "name": "ir"
  },
  "language_info": {
   "codemirror_mode": "r",
   "file_extension": ".r",
   "mimetype": "text/x-r-source",
   "name": "R",
   "pygments_lexer": "r",
   "version": "4.2.3"
  }
 },
 "nbformat": 4,
 "nbformat_minor": 5
}
