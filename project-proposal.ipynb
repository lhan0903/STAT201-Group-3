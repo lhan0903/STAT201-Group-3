{
 "cells": [
  {
   "cell_type": "markdown",
   "id": "d0fdc87f-72a7-48c2-b633-48b7e4eb6601",
   "metadata": {},
   "source": [
    "# Deliverable 2: Project Proposal\n",
    "\n",
    "### Group 3 - Aden Chan, Kashie Ugoji, Linda Han, Sungha Choi"
   ]
  },
  {
   "cell_type": "code",
   "execution_count": null,
   "id": "ca1f1f31-62b7-4fe3-a061-77db4b2fdc14",
   "metadata": {},
   "outputs": [],
   "source": []
  }
 ],
 "metadata": {
  "kernelspec": {
   "display_name": "R",
   "language": "R",
   "name": "ir"
  },
  "language_info": {
   "codemirror_mode": "r",
   "file_extension": ".r",
   "mimetype": "text/x-r-source",
   "name": "R",
   "pygments_lexer": "r",
   "version": "4.2.3"
  }
 },
 "nbformat": 4,
 "nbformat_minor": 5
}
